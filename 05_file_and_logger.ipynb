{
 "cells": [
  {
   "cell_type": "code",
   "execution_count": 1,
   "metadata": {},
   "outputs": [
    {
     "name": "stdout",
     "output_type": "stream",
     "text": [
      "30\n"
     ]
    }
   ],
   "source": [
    "import logging\n",
    "logging.basicConfig(filename='material/logger01.log')\n",
    "\n",
    "logger1 = logging.getLogger()\n",
    "logger1.info('you can not see this line !')  \n",
    "\n",
    "\n",
    "# go to material/logger01.log, you will find nothing in log file, why?\n",
    "\n",
    "print(logger1.level)"
   ]
  },
  {
   "cell_type": "code",
   "execution_count": 1,
   "metadata": {},
   "outputs": [],
   "source": [
    "# levels : debug, Info, warning, error, critical\n",
    "import logging\n",
    "\n",
    "logging.basicConfig(filename='material/logger02.log', level=logging.DEBUG)\n",
    "\n",
    "logger2 = logging.getLogger()\n",
    "logger2.info('you can see this line ! ')\n",
    "logger2.warning('you can see this line 2 time! ')\n",
    "\n",
    "# you will not see it either (even the logger02.log), because second time the basicConfig does not work.\n",
    "# you need to restart the script"
   ]
  },
  {
   "cell_type": "markdown",
   "metadata": {},
   "source": [
    "![title](material/img/logger_level.png)"
   ]
  },
  {
   "cell_type": "code",
   "execution_count": 1,
   "metadata": {},
   "outputs": [],
   "source": [
    "import logging\n",
    "\n",
    "# you can even format each entry of log information\n",
    "\n",
    "# where to find log_formats: https://docs.python.org/3/library/logging.html\n",
    "log_format = '%(levelname)s %(asctime)s - %(message)s'\n",
    "\n",
    "logging.basicConfig(filename='material/logger03.log',\n",
    "                    datefmt='%m/%d/%Y %I:%M:%S %p',\n",
    "                    filemode=\"w\",                       # rewrite everytime\n",
    "                    level=logging.DEBUG, \n",
    "                    format=log_format)\n",
    "\n",
    "logger3 = logging.getLogger()\n",
    "logger3.info('you can the see the asctime of this entry')"
   ]
  },
  {
   "cell_type": "code",
   "execution_count": null,
   "metadata": {},
   "outputs": [],
   "source": []
  }
 ],
 "metadata": {
  "kernelspec": {
   "display_name": "congyuml",
   "language": "python",
   "name": "congyuml"
  },
  "language_info": {
   "codemirror_mode": {
    "name": "ipython",
    "version": 3
   },
   "file_extension": ".py",
   "mimetype": "text/x-python",
   "name": "python",
   "nbconvert_exporter": "python",
   "pygments_lexer": "ipython3",
   "version": "3.6.9"
  }
 },
 "nbformat": 4,
 "nbformat_minor": 4
}
