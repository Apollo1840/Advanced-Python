{
 "cells": [
  {
   "cell_type": "code",
   "execution_count": 1,
   "metadata": {},
   "outputs": [],
   "source": [
    "import numpy as np"
   ]
  },
  {
   "cell_type": "markdown",
   "metadata": {},
   "source": [
    "# initialization"
   ]
  },
  {
   "cell_type": "markdown",
   "metadata": {},
   "source": [
    "## array"
   ]
  },
  {
   "cell_type": "code",
   "execution_count": 2,
   "metadata": {},
   "outputs": [
    {
     "name": "stdout",
     "output_type": "stream",
     "text": [
      "[0 1 2 3 4]\n",
      "[ 0  2  4  6  8 10]\n",
      "[ 0.  2.  4.  6.  8. 10.]\n",
      "[0.         0.6981317  1.3962634  2.0943951  2.7925268  3.4906585\n",
      " 4.1887902  4.88692191 5.58505361 6.28318531]\n",
      "[0. 0. 0.]\n",
      "[1. 1. 1.]\n"
     ]
    }
   ],
   "source": [
    "\n",
    "print(np.arange(5))\n",
    "print(np.arange(0, 11, 2))  # exclude 11, gap = 2\n",
    "\n",
    "print(np.linspace(0, 10, 6))  # include 10, number=6\n",
    "print(np.linspace(0, 2 * np.pi, 10))\n",
    "# np.logspace(0,2,10)\n",
    "\n",
    "print(np.zeros(3))\n",
    "print(np.ones(3))"
   ]
  },
  {
   "cell_type": "markdown",
   "metadata": {},
   "source": [
    "## matrix"
   ]
  },
  {
   "cell_type": "code",
   "execution_count": 3,
   "metadata": {},
   "outputs": [
    {
     "name": "stdout",
     "output_type": "stream",
     "text": [
      "[[0. 0. 0.]\n",
      " [0. 0. 0.]\n",
      " [0. 0. 0.]]\n",
      "[[1. 1. 1.]\n",
      " [1. 1. 1.]\n",
      " [1. 1. 1.]]\n",
      "[[1. 0. 0.]\n",
      " [0. 1. 0.]\n",
      " [0. 0. 1.]]\n",
      "[[1 2 1 2]\n",
      " [3 4 3 4]\n",
      " [1 2 1 2]\n",
      " [3 4 3 4]]\n",
      "(16,)\n",
      "A= [[1.  4.  2.  6. ]\n",
      " [7.  8.  9.  3. ]\n",
      " [4.  6.  4.  5. ]\n",
      " [7.  3.  6.  2.3]]\n",
      "[[ 0.94984     0.54460447  1.35147948]\n",
      " [ 2.00190199  2.14258954 -1.13516428]\n",
      " [-0.55999489 -0.6877902  -0.79910526]]\n"
     ]
    }
   ],
   "source": [
    "print(np.zeros((3, 3)))\n",
    "print(np.ones((3, 3)))\n",
    "print(np.eye(3))\n",
    "\n",
    "t0 = np.array([[1, 2], [3, 4]])\n",
    "print(np.tile(t0, (2, 2)))\n",
    "\n",
    "a = np.array([1, 4, 2, 6, 7, 8, 9, 3, 4, 6, 4, 5, 7, 3, 6, 2.3])\n",
    "print(a.shape)\n",
    "\n",
    "# not a fixed array\n",
    "A = a.reshape(4, 4)  # the row order is keeped\n",
    "# use resize will change the a\n",
    "print(\"A=\", A)  # remember the A here\n",
    "\n",
    "x1 = np.random.randn(3, 3)\n",
    "print(x1)"
   ]
  },
  {
   "cell_type": "markdown",
   "metadata": {},
   "source": [
    "# 1 - np functions on np.array"
   ]
  },
  {
   "cell_type": "code",
   "execution_count": 4,
   "metadata": {},
   "outputs": [
    {
     "name": "stdout",
     "output_type": "stream",
     "text": [
      "[1.88352674 0.59186428 1.32579648 ... 1.12834144 1.11537993 1.09663029]\n",
      "[0.79570468 0.72420848 0.53104934 ... 0.34748928 0.33044681 0.30371385]\n",
      "[ 0. -1.  0. ...  0.  0.  0.]\n"
     ]
    }
   ],
   "source": [
    "xn = np.random.randn(100000)  # randn is normalvariate\n",
    "# %time print(sum(xn))\n",
    "# %time print(np.sum(xn))  # np function is incrediablely faster\n",
    "\n",
    "# entry-wise\n",
    "print(np.exp(xn))  # this is crazy for for loop\n",
    "print(np.sqrt(np.abs(xn)))\n",
    "print(np.floor(xn))\n"
   ]
  },
  {
   "cell_type": "code",
   "execution_count": 5,
   "metadata": {},
   "outputs": [
    {
     "name": "stdout",
     "output_type": "stream",
     "text": [
      "[[1 2 3]\n",
      " [4 5 6]]\n",
      "[5 7 9]\n",
      "[ 6 15]\n",
      "[ 4 10 18]\n"
     ]
    }
   ],
   "source": [
    "# more np functions:\n",
    "A = np.array([[1, 2, 3], [4, 5, 6]])\n",
    "print(A)\n",
    "\n",
    "print(np.sum(A,  axis=0))  \n",
    "# axis = 0 means columnwise (like sum up the 0th dimension)\n",
    "\n",
    "print(np.sum(A,  axis=1))\n",
    "print(np.prod(A, axis=0))"
   ]
  },
  {
   "cell_type": "code",
   "execution_count": 6,
   "metadata": {},
   "outputs": [
    {
     "name": "stdout",
     "output_type": "stream",
     "text": [
      "[[ 1  3  6]\n",
      " [ 4  9 15]]\n",
      "[[1 1]\n",
      " [1 1]]\n"
     ]
    }
   ],
   "source": [
    "print(np.cumsum(A, axis=1))\n",
    "print(np.diff(A,   axis=1))  # a[n] = x[n+1] -x[n]"
   ]
  },
  {
   "cell_type": "code",
   "execution_count": 7,
   "metadata": {},
   "outputs": [
    {
     "name": "stdout",
     "output_type": "stream",
     "text": [
      "[0.66666667 0.66666667]\n",
      "[0.81649658 0.81649658]\n"
     ]
    }
   ],
   "source": [
    "print(np.var(A, axis=1))\n",
    "print(np.std(A, axis=1))"
   ]
  },
  {
   "cell_type": "code",
   "execution_count": 8,
   "metadata": {},
   "outputs": [
    {
     "name": "stdout",
     "output_type": "stream",
     "text": [
      "[3 6]\n",
      "[2 2]\n"
     ]
    }
   ],
   "source": [
    "print(np.max(A,    axis=1))\n",
    "print(np.argmax(A, axis=1))"
   ]
  },
  {
   "cell_type": "code",
   "execution_count": 9,
   "metadata": {},
   "outputs": [
    {
     "name": "stdout",
     "output_type": "stream",
     "text": [
      "[[1 2]\n",
      " [3 6]]\n",
      "[[2 1]\n",
      " [6 3]]\n",
      "[1 0 3 2]\n"
     ]
    }
   ],
   "source": [
    "A = np.array([[2, 1],[6, 3]])\n",
    "print(np.sort(A, axis=1))\n",
    "print(A)\n",
    "print(np.argsort(A.ravel()))  # order"
   ]
  },
  {
   "cell_type": "code",
   "execution_count": 10,
   "metadata": {},
   "outputs": [
    {
     "name": "stdout",
     "output_type": "stream",
     "text": [
      "[False False  True False]\n",
      "(array([0, 1, 3]),)\n",
      "[ 0  1 20  3]\n",
      "(array([1, 3]),)\n"
     ]
    }
   ],
   "source": [
    "# list of boolean\n",
    "logic = [True, True, False, True]\n",
    "\n",
    "print(np.logical_not(logic))\n",
    "print(np.where(logic))\n",
    "  \n",
    "# another ways to use np.where\n",
    "print(np.where(logic, range(4), range(0, 40, 10)))\n",
    "# true for range(4)\n",
    "# false for range(0, 40, 10)\n",
    "\n",
    "print(np.nonzero([0, 2, 0, 1]))\n",
    "# it is better to not use it on boolean"
   ]
  },
  {
   "cell_type": "markdown",
   "metadata": {},
   "source": [
    "# 2 - matrix"
   ]
  },
  {
   "cell_type": "markdown",
   "metadata": {},
   "source": [
    "## 2.1 matrix operations"
   ]
  },
  {
   "cell_type": "code",
   "execution_count": 11,
   "metadata": {},
   "outputs": [
    {
     "name": "stdout",
     "output_type": "stream",
     "text": [
      "[[1 2 3]\n",
      " [4 5 6]\n",
      " [7 8 9]]\n"
     ]
    }
   ],
   "source": [
    "A = np.array([[1, 2, 3], [4, 5, 6], [7, 8, 9]])\n",
    "print(A)"
   ]
  },
  {
   "cell_type": "code",
   "execution_count": 12,
   "metadata": {},
   "outputs": [
    {
     "name": "stdout",
     "output_type": "stream",
     "text": [
      "6\n",
      "6\n",
      "[3 6 9]\n",
      "[1 2 3]\n",
      "[[1 2 3]\n",
      " [7 8 9]]\n",
      "[1 9]\n"
     ]
    }
   ],
   "source": [
    "# 1) index\n",
    "print(A[1, 2])\n",
    "print(A[(1, 2)])\n",
    "print(A[:, 2])\n",
    "\n",
    "print(A[0])  # the first row\n",
    "print(A[[0, 2]])  # 2 rows\n",
    "print(A[[0, 2], [0, 2]])"
   ]
  },
  {
   "cell_type": "code",
   "execution_count": 13,
   "metadata": {},
   "outputs": [
    {
     "name": "stdout",
     "output_type": "stream",
     "text": [
      "[ 0 10 20 30 40 50 60 70 80 90]\n",
      "[99 98 97 96 95 94 93 92 91 90 89 88 87 86 85 84 83 82 81 80 79 78 77 76\n",
      " 75 74 73 72 71 70 69 68 67 66 65 64 63 62 61 60 59 58 57 56 55 54 53 52\n",
      " 51 50 49 48 47 46 45 44 43 42 41 40 39 38 37 36 35 34 33 32 31 30 29 28\n",
      " 27 26 25 24 23 22 21 20 19 18 17 16 15 14 13 12 11 10  9  8  7  6  5  4\n",
      "  3  2  1  0]\n"
     ]
    }
   ],
   "source": [
    "# sampling\n",
    "x = np.arange(100)\n",
    "\n",
    "x_sample = x[::10]\n",
    "print(x_sample)\n",
    "\n",
    "x_reverse = x[::-1]\n",
    "print(x_reverse)"
   ]
  },
  {
   "cell_type": "code",
   "execution_count": 14,
   "metadata": {},
   "outputs": [
    {
     "name": "stdout",
     "output_type": "stream",
     "text": [
      "[[ 1  7  2  8  3  9]\n",
      " [ 4 10  5 11  6 12]]\n",
      "[ 1  2  3  4  5  6  7  8  9 10 11 12]\n"
     ]
    }
   ],
   "source": [
    "# 2) reshape and ravel\n",
    "\n",
    "A = np.array([[1, 2, 3], [4, 5, 6], [7, 8, 9], [10, 11, 12]])\n",
    "print(A.reshape(2, -1, order='F'))  # -1 means adaptive\n",
    "# order: \n",
    "# https://docs.scipy.org/doc/numpy/reference/generated/numpy.reshape.html\n",
    "\n",
    "print(A.ravel())  # return to vector"
   ]
  },
  {
   "cell_type": "code",
   "execution_count": 15,
   "metadata": {},
   "outputs": [
    {
     "name": "stdout",
     "output_type": "stream",
     "text": [
      "[[14]\n",
      " [32]\n",
      " [50]\n",
      " [68]]\n"
     ]
    }
   ],
   "source": [
    "# 3) np.dot (faster than for loop multiplicaiton)\n",
    "x = np.array([1, 2, 3])\n",
    "x = x.reshape(3, 1)\n",
    "b = np.dot(A, x)  # weapon of vectorization\n",
    "print(b)\n"
   ]
  },
  {
   "cell_type": "code",
   "execution_count": 16,
   "metadata": {},
   "outputs": [
    {
     "name": "stdout",
     "output_type": "stream",
     "text": [
      "(5,)\n",
      "[-1.0405038  -0.50470267  0.04238699 -0.90393582 -1.13863205]\n",
      "3.4527525305249362\n"
     ]
    }
   ],
   "source": [
    "# important: when one of the input lack dimension, it will be adaptive\n",
    "a = np.random.randn(5)\n",
    "print(a.shape)\n",
    "print(a.T)\n",
    "print(np.dot(a.T, a))"
   ]
  },
  {
   "cell_type": "code",
   "execution_count": 17,
   "metadata": {},
   "outputs": [
    {
     "name": "stdout",
     "output_type": "stream",
     "text": [
      "a\n",
      " [[0. 4. 0. 3. 4. 3. 2. 8. 6. 5. 6. 3.]\n",
      " [0. 5. 4. 6. 5. 3. 8. 6. 4. 4. 1. 5.]]\n",
      "b\n",
      " [[0. 5. 3. 7. 7. 7. 9. 2. 6. 5. 0. 8.]\n",
      " [9. 8. 3. 3. 3. 6. 9. 3. 5. 7. 5. 6.]]\n",
      "[[0. 4. 0. 3. 4. 3. 2. 8. 6. 5. 6. 3. 0. 5. 3. 7. 7. 7. 9. 2. 6. 5. 0. 8.]\n",
      " [0. 5. 4. 6. 5. 3. 8. 6. 4. 4. 1. 5. 9. 8. 3. 3. 3. 6. 9. 3. 5. 7. 5. 6.]]\n",
      "[[0. 4. 0. 3. 4. 3. 2. 8. 6. 5. 6. 3. 0. 5. 3. 7. 7. 7. 9. 2. 6. 5. 0. 8.]\n",
      " [0. 5. 4. 6. 5. 3. 8. 6. 4. 4. 1. 5. 9. 8. 3. 3. 3. 6. 9. 3. 5. 7. 5. 6.]]\n",
      "[[0. 4. 0. 3. 4. 3. 2. 8. 6. 5. 6. 3.]\n",
      " [0. 5. 4. 6. 5. 3. 8. 6. 4. 4. 1. 5.]\n",
      " [0. 5. 3. 7. 7. 7. 9. 2. 6. 5. 0. 8.]\n",
      " [9. 8. 3. 3. 3. 6. 9. 3. 5. 7. 5. 6.]]\n",
      "[[0. 4. 0. 3. 4. 3. 2. 8. 6. 5. 6. 3.]\n",
      " [0. 5. 4. 6. 5. 3. 8. 6. 4. 4. 1. 5.]\n",
      " [0. 5. 3. 7. 7. 7. 9. 2. 6. 5. 0. 8.]\n",
      " [9. 8. 3. 3. 3. 6. 9. 3. 5. 7. 5. 6.]]\n",
      "[array([[0., 4., 0., 3.],\n",
      "       [0., 5., 4., 6.]]), array([[4., 3., 2., 8.],\n",
      "       [5., 3., 8., 6.]]), array([[6., 5., 6., 3.],\n",
      "       [4., 4., 1., 5.]])]\n",
      "[array([[0., 4., 0.],\n",
      "       [0., 5., 4.]]), array([[3.],\n",
      "       [6.]]), array([[4., 3., 2., 8., 6., 5., 6., 3.],\n",
      "       [5., 3., 8., 6., 4., 4., 1., 5.]])]\n",
      "[array([[0., 5., 3., 7., 7., 7., 9., 2., 6., 5., 0., 8.]]), array([[9., 8., 3., 3., 3., 6., 9., 3., 5., 7., 5., 6.]])]\n"
     ]
    }
   ],
   "source": [
    "# 4) stack and split\n",
    "\n",
    "a = np.floor(10 * np.random.random((2, 12)))\n",
    "b = np.floor(10 * np.random.random((2, 12)))\n",
    "print('a\\n', a)\n",
    "print('b\\n', b)\n",
    "\n",
    "# stack\n",
    "print(np.hstack((a, b)))\n",
    "print(np.c_[a, b])  # increase columns\n",
    "\n",
    "print(np.vstack((a, b)))\n",
    "print(np.r_[a, b])  # increase rows\n",
    "\n",
    "# split\n",
    "print(np.hsplit(a, 3))  # evenly into 3 part\n",
    "print(np.hsplit(a, (3, 4)))  # 表示从某位置切割  (3, 4)  切两下 最左边记为0 第一块有3列\n",
    "\n",
    "print(np.vsplit(b, 2))\n",
    "\n",
    "\n"
   ]
  },
  {
   "cell_type": "markdown",
   "metadata": {},
   "source": [
    "## 2.2 matrix broadcasting"
   ]
  },
  {
   "cell_type": "code",
   "execution_count": 18,
   "metadata": {},
   "outputs": [
    {
     "name": "stdout",
     "output_type": "stream",
     "text": [
      "A\n",
      " [[1 2 3]\n",
      " [4 5 6]\n",
      " [7 8 9]]\n",
      "[[ 3  4  5]\n",
      " [ 6  7  8]\n",
      " [ 9 10 11]]\n",
      "[[  1   3 -97]\n",
      " [  4   6 -94]\n",
      " [  7   9 -91]]\n",
      "[[  1   2   3]\n",
      " [  5   6   7]\n",
      " [-93 -92 -91]]\n",
      "[[0.08333333 0.13333333 0.16666667]\n",
      " [0.33333333 0.33333333 0.33333333]\n",
      " [0.58333333 0.53333333 0.5       ]]\n"
     ]
    }
   ],
   "source": [
    "A = np.array([[1, 2, 3], [4, 5, 6], [7, 8, 9]])\n",
    "\n",
    "print('A\\n', A)\n",
    "print(A + 2)\n",
    "print(A + np.array([[0, 1, -100]]))\n",
    "print(A + np.array([[0, 1, -100]]).T)\n",
    "\n",
    "# practice\n",
    "np.sum(A, axis=0)\n",
    "print(A / np.sum(A, axis=0))\n"
   ]
  },
  {
   "cell_type": "markdown",
   "metadata": {},
   "source": [
    "# program operation"
   ]
  },
  {
   "cell_type": "code",
   "execution_count": 19,
   "metadata": {},
   "outputs": [
    {
     "name": "stdout",
     "output_type": "stream",
     "text": [
      "[[10.   4.   2.   6.   7.   8.   9.   3.   4.   6.   4.   5.   7.   3.\n",
      "   6.   2.3]]\n",
      "[[10.   4.   2.   6.   7.   8.   9.   3.   4.   6.   4.   5.   7.   3.\n",
      "   6.   2.3]]\n",
      "[[1.  4.  2.  6.  7.  8.  9.  3.  4.  6.  4.  5.  7.  3.  6.  2.3]]\n",
      "[[10.   4.   2.   6.   7.   8.   9.   3.   4.   6.   4.   5.   7.   3.\n",
      "   6.   2.3]]\n",
      "[[10.   4.   2.   6. ]\n",
      " [ 7.   8.   9.   3. ]\n",
      " [ 4.   6.   4.   5. ]\n",
      " [ 7.   3.   6.   2.3]]\n",
      "[[10.   4.   2.   6. ]\n",
      " [ 7.   8.   9.   3. ]\n",
      " [ 4.   6.   4.   5. ]\n",
      " [ 7.   3.   6.   2.3]]\n",
      "[[1.  4.  2.  6.  7.  8.  9.  3.  4.  6.  4.  5.  7.  3.  6.  2.3]]\n",
      "[[10.   4.   2.   6.   7.   8.   9.   3.   4.   6.   4.   5.   7.   3.\n",
      "   6.   2.3]]\n"
     ]
    }
   ],
   "source": [
    "a = np.array([[1, 4, 2, 6, 7, 8, 9, 3, 4, 6, 4, 5, 7, 3, 6, 2.3]])\n",
    "a2 = a\n",
    "a_copy = a.copy()\n",
    "a_view = a.view()\n",
    "\n",
    "a[0, 0] = 10\n",
    "print(a)\n",
    "print(a2)\n",
    "print(a_copy)\n",
    "print(a_view)\n",
    "\n",
    "a = np.array([[1, 4, 2, 6, 7, 8, 9, 3, 4, 6, 4, 5, 7, 3, 6, 2.3]])\n",
    "a2 = a\n",
    "a_copy = a.copy()\n",
    "a_view = a.view()\n",
    "\n",
    "a.shape = (4, 4)\n",
    "a[0, 0] = 10\n",
    "print(a)\n",
    "print(a2)\n",
    "print(a_copy)\n",
    "print(a_view)"
   ]
  },
  {
   "cell_type": "markdown",
   "metadata": {},
   "source": [
    "# bonus operation"
   ]
  },
  {
   "cell_type": "code",
   "execution_count": 20,
   "metadata": {},
   "outputs": [
    {
     "name": "stdout",
     "output_type": "stream",
     "text": [
      "[[0 0]\n",
      " [1 1]\n",
      " [2 2]\n",
      " [3 3]\n",
      " [4 4]\n",
      " [5 5]]\n",
      "[(0, 0), (1, 0), (2, 0), (3, 0), (4, 0), (5, 0), (0, 1), (1, 1), (2, 1), (3, 1), (4, 1), (5, 1), (0, 2), (1, 2), (2, 2), (3, 2), (4, 2), (5, 2), (0, 3), (1, 3), (2, 3), (3, 3), (4, 3), (5, 3), (0, 4), (1, 4), (2, 4), (3, 4), (4, 4), (5, 4), (0, 5), (1, 5), (2, 5), (3, 5), (4, 5), (5, 5)]\n"
     ]
    },
    {
     "name": "stderr",
     "output_type": "stream",
     "text": [
      "/home/congyu/.virtualenvs/congyuml/lib/python3.6/site-packages/ipykernel_launcher.py:20: RuntimeWarning: Degrees of freedom <= 0 for slice\n",
      "/home/congyu/.virtualenvs/congyuml/lib/python3.6/site-packages/numpy/lib/function_base.py:2455: RuntimeWarning: divide by zero encountered in true_divide\n",
      "  c *= np.true_divide(1, fact)\n",
      "/home/congyu/.virtualenvs/congyuml/lib/python3.6/site-packages/numpy/lib/function_base.py:2455: RuntimeWarning: invalid value encountered in multiply\n",
      "  c *= np.true_divide(1, fact)\n",
      "/home/congyu/.virtualenvs/congyuml/lib/python3.6/site-packages/numpy/lib/function_base.py:2526: RuntimeWarning: Degrees of freedom <= 0 for slice\n",
      "  c = cov(x, y, rowvar)\n"
     ]
    },
    {
     "data": {
      "text/plain": [
       "array([[nan, nan, nan, nan, nan, nan],\n",
       "       [nan, nan, nan, nan, nan, nan],\n",
       "       [nan, nan, nan, nan, nan, nan],\n",
       "       [nan, nan, nan, nan, nan, nan],\n",
       "       [nan, nan, nan, nan, nan, nan],\n",
       "       [nan, nan, nan, nan, nan, nan]])"
      ]
     },
     "execution_count": 20,
     "metadata": {},
     "output_type": "execute_result"
    }
   ],
   "source": [
    "# np.c_ for 1 dim array\n",
    "A = np.arange(6)\n",
    "print(np.c_[A, A])\n",
    "\n",
    "# np.meshgrid\n",
    "xx, yy = np.meshgrid(A, A)\n",
    "all_node = zip(xx.ravel(), yy.ravel())\n",
    "print(list(all_node))\n",
    "\n",
    "# np.all\n",
    "np.all([True, False])\n",
    "np.any([True, False])\n",
    "\n",
    "# np.apply_along_axis\n",
    "np.apply_along_axis(lambda x: np.sum(x), 0, A.reshape(2, 3))\n",
    "\n",
    "# cov\n",
    "y = x\n",
    "X = np.concatenate([x, y])\n",
    "np.cov(x, y)\n",
    "np.cov(X.T)  # each column of X is an attribute\n",
    "\n",
    "np.corrcoef(x, y)"
   ]
  },
  {
   "cell_type": "markdown",
   "metadata": {},
   "source": [
    "# Handbook of numpy"
   ]
  },
  {
   "cell_type": "code",
   "execution_count": 21,
   "metadata": {},
   "outputs": [
    {
     "name": "stdout",
     "output_type": "stream",
     "text": [
      "[ 0  1  2  3  4  5  6  7  8  9 10 11]\n",
      "1\n",
      "(12,)\n",
      "12\n",
      "[1 3 1 4]\n",
      "[[1 2 8]\n",
      " [1 2 8]]\n",
      "[0 1 2 3 4 5 6 7 8]\n",
      "[10  1  2  3  4  5  6  7 20]\n"
     ]
    },
    {
     "data": {
      "text/plain": [
       "5"
      ]
     },
     "execution_count": 21,
     "metadata": {},
     "output_type": "execute_result"
    }
   ],
   "source": [
    "a = np.arange(12)\n",
    "print(a)\n",
    "\n",
    "print(a.ndim)\n",
    "print(a.shape)\n",
    "print(a.size)\n",
    "\n",
    "# numpy initialization\n",
    "A = a.reshape(3, 4)\n",
    "np.ones_like(a)\n",
    "np.zeros_like(a)\n",
    "\n",
    "B1 = np.random.rand(4, 3)\n",
    "B2 = np.random.randn(4, 3)\n",
    "\n",
    "# say that we want a matrix aij = i+j\n",
    "np.fromfunction(lambda i, j: i + j, (3, 3))\n",
    "\n",
    "a = np.arange(9)\n",
    "idx = [1, 3, 1, 4]\n",
    "print(np.take(a, idx))\n",
    "\n",
    "idx = [[1, 2, -1], [1, 2, -1]]\n",
    "print(np.take(a, idx))\n",
    "\n",
    "# alter value\n",
    "print(a)\n",
    "np.put(a, [0, -1], [10, 20])  # put 10 in position 0, put 20 to the last position\n",
    "print(a)\n",
    "\n",
    "# matrix operation\n",
    "A @ B1  # np.dot\n",
    "\n",
    "np.repeat([1, 2, 3], 5).reshape(3, 5)\n",
    "\n",
    "# delete newaxis\n",
    "np.squeeze(A)\n",
    "\n",
    "np.ptp(range(10))  # value_range (max-min)\n",
    "np.ptp(np.ones(10))\n",
    "np.ptp([[1, 2, 3], [2, 3, 4]], axis=0)\n",
    "np.ptp([[1, 2, 3], [2, 3, 4]], axis=1)\n",
    "\n",
    "# return the indices where elements should be inserted to maintain order.\n",
    "np.searchsorted(range(10), 5)  # find the position of 5\n",
    "np.searchsorted(range(10), 5, side='left')  # left is empty boundary\n",
    "\n"
   ]
  },
  {
   "cell_type": "code",
   "execution_count": 22,
   "metadata": {},
   "outputs": [
    {
     "name": "stdout",
     "output_type": "stream",
     "text": [
      "(10,)\n",
      "(1, 10)\n",
      "(10, 1)\n",
      "[[[0 1 2]]\n",
      "\n",
      " [[3 4 5]]\n",
      "\n",
      " [[6 7 8]]]\n"
     ]
    }
   ],
   "source": [
    "# newaxis\n",
    "from numpy import newaxis\n",
    "\n",
    "# it is None\n",
    "\n",
    "a = np.arange(10)\n",
    "print(a.shape)\n",
    "b = a[newaxis, :]\n",
    "print(b.shape)\n",
    "\n",
    "b = a[:, newaxis]\n",
    "print(b.shape)\n",
    "\n",
    "a = a[:-1]\n",
    "A = a.reshape(3, 3)\n",
    "B = A[:, newaxis, :]\n",
    "print(B)"
   ]
  },
  {
   "cell_type": "code",
   "execution_count": 23,
   "metadata": {},
   "outputs": [],
   "source": [
    "from numpy import linalg\n",
    "\n",
    "A = np.array([[1, 2], [0, 3]])\n",
    "b = np.array([5, 2])\n",
    "\n",
    "A_ = linalg.solve(A, np.ones(len(A)))\n",
    "x  = linalg.solve(A, b)"
   ]
  },
  {
   "cell_type": "code",
   "execution_count": 24,
   "metadata": {},
   "outputs": [
    {
     "name": "stdout",
     "output_type": "stream",
     "text": [
      "[1. 3.]\n",
      "[[1.         0.70710678]\n",
      " [0.         0.70710678]]\n"
     ]
    }
   ],
   "source": [
    "w, v = linalg.eig(A)\n",
    "print(w)\n",
    "print(v)\n",
    "\n",
    "u, s, vh = linalg.svd(A)"
   ]
  }
 ],
 "metadata": {
  "kernelspec": {
   "display_name": "congyuml",
   "language": "python",
   "name": "congyuml"
  },
  "language_info": {
   "codemirror_mode": {
    "name": "ipython",
    "version": 3
   },
   "file_extension": ".py",
   "mimetype": "text/x-python",
   "name": "python",
   "nbconvert_exporter": "python",
   "pygments_lexer": "ipython3",
   "version": "3.6.8"
  }
 },
 "nbformat": 4,
 "nbformat_minor": 2
}
