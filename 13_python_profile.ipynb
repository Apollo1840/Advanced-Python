{
 "cells": [
  {
   "cell_type": "code",
   "execution_count": 4,
   "metadata": {},
   "outputs": [],
   "source": [
    "import sys\n",
    "import os \n",
    "import psutil \n",
    "from operator import itemgetter\n",
    "from pprint import pprint"
   ]
  },
  {
   "cell_type": "code",
   "execution_count": 5,
   "metadata": {},
   "outputs": [],
   "source": [
    "a = [i for i in range(10**5)]"
   ]
  },
  {
   "cell_type": "code",
   "execution_count": 6,
   "metadata": {},
   "outputs": [
    {
     "name": "stdout",
     "output_type": "stream",
     "text": [
      "56.96484375\n",
      "\n",
      "detail: \n",
      "[('__package__', 1.52587890625e-05),\n",
      " ('__loader__', 1.52587890625e-05),\n",
      " ('__spec__', 1.52587890625e-05),\n",
      " ('_', 4.673004150390625e-05),\n",
      " ('__', 4.673004150390625e-05),\n",
      " ('___', 4.673004150390625e-05),\n",
      " ('exit', 5.340576171875e-05),\n",
      " ('quit', 5.340576171875e-05),\n",
      " ('process', 5.340576171875e-05),\n",
      " ('var', 5.340576171875e-05),\n",
      " ('obj', 5.340576171875e-05),\n",
      " ('__name__', 5.435943603515625e-05),\n",
      " ('get_ipython', 6.103515625e-05),\n",
      " ('_dh', 6.866455078125e-05),\n",
      " ('_i', 7.43865966796875e-05),\n",
      " ('_i2', 7.43865966796875e-05),\n",
      " ('_i5', 7.43865966796875e-05),\n",
      " ('__builtin__', 7.62939453125e-05),\n",
      " ('__builtins__', 7.62939453125e-05),\n",
      " ('sys', 7.62939453125e-05),\n",
      " ('os', 7.62939453125e-05),\n",
      " ('psutil', 7.62939453125e-05),\n",
      " ('__doc__', 0.00010776519775390625),\n",
      " ('_i1', 0.00011157989501953125),\n",
      " ('_ih', 0.0001220703125),\n",
      " ('In', 0.0001220703125),\n",
      " ('pprint', 0.00012969970703125),\n",
      " ('_ii', 0.00013637542724609375),\n",
      " ('_i4', 0.00013637542724609375),\n",
      " ('_oh', 0.0002288818359375),\n",
      " ('Out', 0.0002288818359375),\n",
      " ('local_var_size', 0.00032806396484375),\n",
      " ('local_vars', 0.00035858154296875),\n",
      " ('_iii', 0.00037097930908203125),\n",
      " ('_i3', 0.00037097930908203125),\n",
      " ('_i6', 0.00037097930908203125),\n",
      " ('itemgetter', 0.0003814697265625),\n",
      " ('a', 0.7862701416015625)]\n"
     ]
    }
   ],
   "source": [
    "\n",
    "process = psutil.Process(os.getpid()) \n",
    "print(process.memory_info().rss / (1024*1024)) # in Megabytes\n",
    "\n",
    "print(\"\\ndetail: \")\n",
    "local_vars = list(locals().items())\n",
    "\n",
    "local_var_size = []\n",
    "for var, obj in local_vars:\n",
    "    local_var_size.append((var, sys.getsizeof(obj)/ (1024*1024)))  # in Megabytes\n",
    "\n",
    "pprint(sorted(local_var_size, key=itemgetter(1)))"
   ]
  },
  {
   "cell_type": "code",
   "execution_count": null,
   "metadata": {},
   "outputs": [],
   "source": []
  }
 ],
 "metadata": {
  "kernelspec": {
   "display_name": "congyuml",
   "language": "python",
   "name": "congyuml"
  },
  "language_info": {
   "codemirror_mode": {
    "name": "ipython",
    "version": 3
   },
   "file_extension": ".py",
   "mimetype": "text/x-python",
   "name": "python",
   "nbconvert_exporter": "python",
   "pygments_lexer": "ipython3",
   "version": "3.6.9"
  }
 },
 "nbformat": 4,
 "nbformat_minor": 4
}
