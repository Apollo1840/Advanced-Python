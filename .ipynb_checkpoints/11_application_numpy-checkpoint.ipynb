{
 "cells": [
  {
   "cell_type": "code",
   "execution_count": 1,
   "metadata": {},
   "outputs": [],
   "source": [
    "import numpy as np"
   ]
  },
  {
   "cell_type": "code",
   "execution_count": 9,
   "metadata": {},
   "outputs": [
    {
     "name": "stdout",
     "output_type": "stream",
     "text": [
      "[54 84 51 23 68 65 48 90 77 89 12 53 67 14 20 61  3 64 55  2 15 16 19 83\n",
      "  8 56 93 57  4 76 60 32 78 94 30 28 63 25 26 75 87 39  5 22  0 13 80 50\n",
      " 35 70 74  9 46 27  1 36 85 86 88  7 10 43 11 82 62 49 18 40 42 97 38 95\n",
      "  6 33 34 41 52 21 73 37 72 81 24 91 69 17 71 31 98 99 45 58 66 79 59 29\n",
      " 44 92 47 96]\n",
      "[array([54, 84, 51, 23, 68, 65, 48, 90, 77, 89]), array([12, 53, 67, 14, 20, 61,  3, 64, 55,  2]), array([15, 16, 19, 83,  8, 56, 93, 57,  4, 76]), array([60, 32, 78, 94, 30, 28, 63, 25, 26, 75]), array([87, 39,  5, 22,  0, 13, 80, 50, 35, 70]), array([74,  9, 46, 27,  1, 36, 85, 86, 88,  7]), array([10, 43, 11, 82, 62, 49, 18, 40, 42, 97]), array([38, 95,  6, 33, 34, 41, 52, 21, 73, 37]), array([72, 81, 24, 91, 69, 17, 71, 31, 98, 99]), array([45, 58, 66, 79, 59, 29, 44, 92, 47, 96])]\n",
      "[[range(0, 54), range(0, 84), range(0, 51), range(0, 23), range(0, 68), range(0, 65), range(0, 48), range(0, 90), range(0, 77), range(0, 89)], [range(0, 12), range(0, 53), range(0, 67), range(0, 14), range(0, 20), range(0, 61), range(0, 3), range(0, 64), range(0, 55), range(0, 2)], [range(0, 15), range(0, 16), range(0, 19), range(0, 83), range(0, 8), range(0, 56), range(0, 93), range(0, 57), range(0, 4), range(0, 76)], [range(0, 60), range(0, 32), range(0, 78), range(0, 94), range(0, 30), range(0, 28), range(0, 63), range(0, 25), range(0, 26), range(0, 75)], [range(0, 87), range(0, 39), range(0, 5), range(0, 22), range(0, 0), range(0, 13), range(0, 80), range(0, 50), range(0, 35), range(0, 70)], [range(0, 74), range(0, 9), range(0, 46), range(0, 27), range(0, 1), range(0, 36), range(0, 85), range(0, 86), range(0, 88), range(0, 7)], [range(0, 10), range(0, 43), range(0, 11), range(0, 82), range(0, 62), range(0, 49), range(0, 18), range(0, 40), range(0, 42), range(0, 97)], [range(0, 38), range(0, 95), range(0, 6), range(0, 33), range(0, 34), range(0, 41), range(0, 52), range(0, 21), range(0, 73), range(0, 37)], [range(0, 72), range(0, 81), range(0, 24), range(0, 91), range(0, 69), range(0, 17), range(0, 71), range(0, 31), range(0, 98), range(0, 99)], [range(0, 45), range(0, 58), range(0, 66), range(0, 79), range(0, 59), range(0, 29), range(0, 44), range(0, 92), range(0, 47), range(0, 96)]]\n"
     ]
    }
   ],
   "source": [
    "indices = np.arange(100)\n",
    "np.random.shuffle(indices)\n",
    "print(indices)\n",
    "\n",
    "n_batches = 10\n",
    "len_batches = len(indices)//n_batches\n",
    "indices_batches = [indices[i*len_batches:(i+1)*len_batches] for i in range(n_batches)]\n",
    "\n",
    "print(indices_batches)\n",
    "\n",
    "list_items = [range(i) for i in range(100)]\n",
    "batches = [[] for _ in range(n_batches)]\n",
    "count = 0\n",
    "for indices in indices_batches:\n",
    "    for i in indices:\n",
    "        batches[count].append(list_items[i])\n",
    "    count +=1\n",
    "        \n",
    "print(batches)"
   ]
  },
  {
   "cell_type": "code",
   "execution_count": 10,
   "metadata": {},
   "outputs": [
    {
     "name": "stdout",
     "output_type": "stream",
     "text": [
      "[range(0, 77), range(0, 53), range(0, 41), range(0, 49), range(0, 96), range(0, 72), range(0, 21), range(0, 75), range(0, 97), range(0, 38), range(0, 35), range(0, 16), range(0, 8), range(0, 80), range(0, 25), range(0, 81), range(0, 37), range(0, 94), range(0, 84), range(0, 71), range(0, 63), range(0, 20), range(0, 29), range(0, 68), range(0, 55), range(0, 73), range(0, 92), range(0, 11), range(0, 89), range(0, 31), range(0, 6), range(0, 1), range(0, 82), range(0, 70), range(0, 78), range(0, 62), range(0, 44), range(0, 76), range(0, 18), range(0, 5), range(0, 66), range(0, 56), range(0, 59), range(0, 40), range(0, 58), range(0, 69), range(0, 65), range(0, 91), range(0, 9), range(0, 7), range(0, 48), range(0, 64), range(0, 32), range(0, 54), range(0, 46), range(0, 83), range(0, 93), range(0, 85), range(0, 24), range(0, 26), range(0, 14), range(0, 98), range(0, 3), range(0, 86), range(0, 30), range(0, 88), range(0, 0), range(0, 28), range(0, 52), range(0, 74), range(0, 99), range(0, 13), range(0, 12), range(0, 67), range(0, 39), range(0, 22), range(0, 17), range(0, 57), range(0, 23), range(0, 51), range(0, 79), range(0, 90), range(0, 42), range(0, 19), range(0, 45), range(0, 47), range(0, 95), range(0, 15), range(0, 60), range(0, 2), range(0, 4), range(0, 61), range(0, 27), range(0, 87), range(0, 33), range(0, 43), range(0, 10), range(0, 50), range(0, 36), range(0, 34)]\n"
     ]
    }
   ],
   "source": [
    "list_items = [range(i) for i in range(100)]\n",
    "np.random.shuffle(list_items)\n",
    "print(list_items)"
   ]
  },
  {
   "cell_type": "code",
   "execution_count": 14,
   "metadata": {},
   "outputs": [
    {
     "data": {
      "text/plain": [
       "[(0, 1, 2, 3, 4, 5, 6, 7, 8, 9), (0, 1, 2, 3, 4, 5, 6, 7, 8, 9)]"
      ]
     },
     "execution_count": 14,
     "metadata": {},
     "output_type": "execute_result"
    }
   ],
   "source": [
    "list(zip(*list(zip(range(10), range(10)))))"
   ]
  },
  {
   "cell_type": "code",
   "execution_count": null,
   "metadata": {},
   "outputs": [],
   "source": []
  }
 ],
 "metadata": {
  "kernelspec": {
   "display_name": "congyuml",
   "language": "python",
   "name": "congyuml"
  },
  "language_info": {
   "codemirror_mode": {
    "name": "ipython",
    "version": 3
   },
   "file_extension": ".py",
   "mimetype": "text/x-python",
   "name": "python",
   "nbconvert_exporter": "python",
   "pygments_lexer": "ipython3",
   "version": "3.6.9"
  }
 },
 "nbformat": 4,
 "nbformat_minor": 4
}
