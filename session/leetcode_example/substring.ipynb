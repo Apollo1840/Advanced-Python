{
 "cells": [
  {
   "cell_type": "code",
   "execution_count": 3,
   "id": "4939be06",
   "metadata": {},
   "outputs": [],
   "source": [
    "from collections import Counter"
   ]
  },
  {
   "cell_type": "code",
   "execution_count": 72,
   "id": "335dae8b",
   "metadata": {},
   "outputs": [],
   "source": [
    "def minWindow(s: str, t: str) -> str:\n",
    "    i = j = 0\n",
    "    res_i, res_j = 0, len(s)\n",
    "    need, miss = Counter(t), len(t)\n",
    "    while True:\n",
    "        print_s = list(s)\n",
    "        print_s.insert(i, \"_\")\n",
    "        print_s.insert(j+1, \"_\")\n",
    "        print(\"\".join(print_s))\n",
    "        \n",
    "        if miss > 0 and j>len(s)-1:\n",
    "            break\n",
    "        \n",
    "        if miss > 0:\n",
    "            \n",
    "            # move forward\n",
    "            j += 1\n",
    "            print(\"\\t>move forward j to {}\".format(j))\n",
    "            \n",
    "            # consume the forward s[j-1]\n",
    "            if s[j-1] in need:\n",
    "                if need[s[j-1]] > 0:\n",
    "                    miss -= 1\n",
    "                need[s[j-1]] -= 1\n",
    "                \n",
    "                print(\"\\t>get '{}' in need, now need: {}\".format(s[j-1], need))\n",
    "                if miss == 0:\n",
    "                    print(\"\\t>reach target\")\n",
    "                \n",
    "        else: # miss == 0:\n",
    "            # check optimial\n",
    "            if j-i < res_j - res_i:\n",
    "                res_i, res_j = i, j                \n",
    "                \n",
    "                print(\"\\t --->>>find new result: {}\".format(s[res_i:res_j]))\n",
    "            \n",
    "            # move forward i\n",
    "            i += 1\n",
    "            print(\"\\t>move forward i to {}\".format(i))\n",
    "                \n",
    "            # before move forward, pop out the current s[i-1]\n",
    "            if s[i-1] in need:\n",
    "                need[s[i-1]] += 1\n",
    "                if need[s[i-1]] > 0:\n",
    "                    miss += 1\n",
    "                    print(\"\\t>'{}' back in need, now need: {}\".format(s[i-1], need))\n",
    "\n",
    "    return s[res_i: res_j]"
   ]
  },
  {
   "cell_type": "code",
   "execution_count": 73,
   "id": "fdb310f9",
   "metadata": {},
   "outputs": [
    {
     "name": "stdout",
     "output_type": "stream",
     "text": [
      "__ADOBECODEBANC\n",
      "\t>move forward j to 1\n",
      "\t>get 'A' in need, now need: Counter({'B': 1, 'C': 1, 'A': 0})\n",
      "_A_DOBECODEBANC\n",
      "\t>move forward j to 2\n",
      "_AD_OBECODEBANC\n",
      "\t>move forward j to 3\n",
      "_ADO_BECODEBANC\n",
      "\t>move forward j to 4\n",
      "\t>get 'B' in need, now need: Counter({'C': 1, 'A': 0, 'B': 0})\n",
      "_ADOB_ECODEBANC\n",
      "\t>move forward j to 5\n",
      "_ADOBE_CODEBANC\n",
      "\t>move forward j to 6\n",
      "\t>get 'C' in need, now need: Counter({'A': 0, 'B': 0, 'C': 0})\n",
      "\t>reach target\n",
      "_ADOBEC_ODEBANC\n",
      "\t --->>>find new result: ADOBEC\n",
      "\t>move forward i to 1\n",
      "\t>'A' back in need, now need: Counter({'A': 1, 'B': 0, 'C': 0})\n",
      "A_DOBEC_ODEBANC\n",
      "\t>move forward j to 7\n",
      "A_DOBECO_DEBANC\n",
      "\t>move forward j to 8\n",
      "A_DOBECOD_EBANC\n",
      "\t>move forward j to 9\n",
      "A_DOBECODE_BANC\n",
      "\t>move forward j to 10\n",
      "\t>get 'B' in need, now need: Counter({'A': 1, 'C': 0, 'B': -1})\n",
      "A_DOBECODEB_ANC\n",
      "\t>move forward j to 11\n",
      "\t>get 'A' in need, now need: Counter({'A': 0, 'C': 0, 'B': -1})\n",
      "\t>reach target\n",
      "A_DOBECODEBA_NC\n",
      "\t>move forward i to 2\n",
      "AD_OBECODEBA_NC\n",
      "\t>move forward i to 3\n",
      "ADO_BECODEBA_NC\n",
      "\t>move forward i to 4\n",
      "ADOB_ECODEBA_NC\n",
      "\t>move forward i to 5\n",
      "ADOBE_CODEBA_NC\n",
      "\t>move forward i to 6\n",
      "\t>'C' back in need, now need: Counter({'C': 1, 'A': 0, 'B': 0})\n",
      "ADOBEC_ODEBA_NC\n",
      "\t>move forward j to 12\n",
      "ADOBEC_ODEBAN_C\n",
      "\t>move forward j to 13\n",
      "\t>get 'C' in need, now need: Counter({'A': 0, 'B': 0, 'C': 0})\n",
      "\t>reach target\n",
      "ADOBEC_ODEBANC_\n",
      "\t>move forward i to 7\n",
      "ADOBECO_DEBANC_\n",
      "\t>move forward i to 8\n",
      "ADOBECOD_EBANC_\n",
      "\t --->>>find new result: EBANC\n",
      "\t>move forward i to 9\n",
      "ADOBECODE_BANC_\n",
      "\t --->>>find new result: BANC\n",
      "\t>move forward i to 10\n",
      "\t>'B' back in need, now need: Counter({'B': 1, 'A': 0, 'C': 0})\n",
      "ADOBECODEB_ANC_\n"
     ]
    },
    {
     "data": {
      "text/plain": [
       "'BANC'"
      ]
     },
     "execution_count": 73,
     "metadata": {},
     "output_type": "execute_result"
    }
   ],
   "source": [
    "a = \"ADOBECODEBANC\"\n",
    "b = \"ABC\"\n",
    "minWindow(a, b)"
   ]
  },
  {
   "cell_type": "code",
   "execution_count": 47,
   "id": "91777865",
   "metadata": {},
   "outputs": [
    {
     "data": {
      "text/plain": [
       "13"
      ]
     },
     "execution_count": 47,
     "metadata": {},
     "output_type": "execute_result"
    }
   ],
   "source": [
    "len(a)"
   ]
  },
  {
   "cell_type": "code",
   "execution_count": null,
   "id": "2f631312",
   "metadata": {},
   "outputs": [],
   "source": []
  }
 ],
 "metadata": {
  "kernelspec": {
   "display_name": "congyutf",
   "language": "python",
   "name": "congyutf"
  },
  "language_info": {
   "codemirror_mode": {
    "name": "ipython",
    "version": 3
   },
   "file_extension": ".py",
   "mimetype": "text/x-python",
   "name": "python",
   "nbconvert_exporter": "python",
   "pygments_lexer": "ipython3",
   "version": "3.9.5"
  }
 },
 "nbformat": 4,
 "nbformat_minor": 5
}
