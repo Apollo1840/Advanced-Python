{
 "cells": [
  {
   "cell_type": "code",
   "execution_count": 2,
   "metadata": {},
   "outputs": [
    {
     "name": "stdout",
     "output_type": "stream",
     "text": [
      "<reversed object at 0x7f2f59744c88>\n",
      "uozuygnoc\n",
      "uozuygnoc\n",
      "cnyzu\n"
     ]
    }
   ],
   "source": [
    "# reverse string\n",
    "\n",
    "name = \"congyuzou\"\n",
    "print(reversed(name))\n",
    "print(''.join(reversed(name)))\n",
    "print(name[::-1])\n",
    "\n",
    "# -> string indexing\n",
    "print(name[::2])"
   ]
  },
  {
   "cell_type": "code",
   "execution_count": 1,
   "metadata": {},
   "outputs": [
    {
     "name": "stdout",
     "output_type": "stream",
     "text": [
      "range(0, 10)\n",
      "range(1, 10)\n"
     ]
    }
   ],
   "source": [
    "# range in detail\n",
    "\n",
    "print(range(10))    # with 0, without 10\n",
    "print(range(1, 10)) # with 1, without 10"
   ]
  },
  {
   "cell_type": "code",
   "execution_count": 6,
   "metadata": {},
   "outputs": [
    {
     "name": "stdout",
     "output_type": "stream",
     "text": [
      "1\n",
      "0\n"
     ]
    },
    {
     "ename": "ValueError",
     "evalue": "12 is not in list",
     "output_type": "error",
     "traceback": [
      "\u001b[0;31m---------------------------------------------------------------------------\u001b[0m",
      "\u001b[0;31mValueError\u001b[0m                                Traceback (most recent call last)",
      "\u001b[0;32m<ipython-input-6-d07347513bdc>\u001b[0m in \u001b[0;36m<module>\u001b[0;34m\u001b[0m\n\u001b[1;32m      4\u001b[0m \u001b[0mprint\u001b[0m\u001b[0;34m(\u001b[0m\u001b[0ma\u001b[0m\u001b[0;34m.\u001b[0m\u001b[0mcount\u001b[0m\u001b[0;34m(\u001b[0m\u001b[0;36m3\u001b[0m\u001b[0;34m)\u001b[0m\u001b[0;34m)\u001b[0m\u001b[0;34m\u001b[0m\u001b[0;34m\u001b[0m\u001b[0m\n\u001b[1;32m      5\u001b[0m \u001b[0mprint\u001b[0m\u001b[0;34m(\u001b[0m\u001b[0ma\u001b[0m\u001b[0;34m.\u001b[0m\u001b[0mcount\u001b[0m\u001b[0;34m(\u001b[0m\u001b[0;36m12\u001b[0m\u001b[0;34m)\u001b[0m\u001b[0;34m)\u001b[0m\u001b[0;34m\u001b[0m\u001b[0;34m\u001b[0m\u001b[0m\n\u001b[0;32m----> 6\u001b[0;31m \u001b[0mprint\u001b[0m\u001b[0;34m(\u001b[0m\u001b[0ma\u001b[0m\u001b[0;34m.\u001b[0m\u001b[0mindex\u001b[0m\u001b[0;34m(\u001b[0m\u001b[0;36m12\u001b[0m\u001b[0;34m)\u001b[0m\u001b[0;34m)\u001b[0m\u001b[0;34m\u001b[0m\u001b[0;34m\u001b[0m\u001b[0m\n\u001b[0m\u001b[1;32m      7\u001b[0m \u001b[0;34m\u001b[0m\u001b[0m\n",
      "\u001b[0;31mValueError\u001b[0m: 12 is not in list"
     ]
    }
   ],
   "source": [
    "# List index and count\n",
    "\n",
    "a = [1,2,3,4,5]\n",
    "print(a.count(12))\n",
    "print(a.index(12))"
   ]
  },
  {
   "cell_type": "code",
   "execution_count": 14,
   "metadata": {
    "scrolled": true
   },
   "outputs": [
    {
     "name": "stdout",
     "output_type": "stream",
     "text": [
      "0\n",
      "('b', 1)\n",
      "dict_keys(['a', 'b'])\n",
      "False\n"
     ]
    }
   ],
   "source": [
    "# more about dictionary \n",
    "\n",
    "dikt = {\"a\": 0, \"b\":1}\n",
    "\n",
    "print(dikt.pop(\"a\"))\n",
    "print(dikt.popitem())  # random pop one item\n",
    "\n",
    "dikt = {\"a\": 0, \"b\":1}\n",
    "\n",
    "print(dikt.keys())\n",
    "print(isinstance(dikt.keys(), list))"
   ]
  },
  {
   "cell_type": "code",
   "execution_count": 16,
   "metadata": {},
   "outputs": [
    {
     "name": "stdout",
     "output_type": "stream",
     "text": [
      "97\n",
      "a\n"
     ]
    }
   ],
   "source": [
    "# ord and chr\n",
    "\n",
    "print(ord(\"a\"))\n",
    "print(chr(97))"
   ]
  },
  {
   "cell_type": "code",
   "execution_count": 20,
   "metadata": {},
   "outputs": [
    {
     "name": "stdout",
     "output_type": "stream",
     "text": [
      "win\n"
     ]
    }
   ],
   "source": [
    "# for-else\n",
    "\n",
    "for chance in [1,3,2,4]:\n",
    "    if chance == 4:\n",
    "        print(\"win\")\n",
    "        break\n",
    "else:\n",
    "    print(\"lose\")"
   ]
  },
  {
   "cell_type": "code",
   "execution_count": 21,
   "metadata": {},
   "outputs": [
    {
     "name": "stdout",
     "output_type": "stream",
     "text": [
      "-2\n",
      "2\n"
     ]
    }
   ],
   "source": [
    "# min-or\n",
    "\n",
    "print(min([] or [-1,-2]))       #  -2\n",
    "print(min([2,3,4] or [-1,-2]))  # 2"
   ]
  },
  {
   "cell_type": "code",
   "execution_count": 25,
   "metadata": {},
   "outputs": [
    {
     "name": "stdout",
     "output_type": "stream",
     "text": [
      "[1, 2, 3, 4, 5]\n",
      "1 2 3 4 5\n",
      "1_2_3_4_5\n",
      "[(1, 2), (2, 3)]\n",
      "[(1, 3), (2, 4)]\n"
     ]
    }
   ],
   "source": [
    "# *lst\n",
    "\n",
    "a = [1,2,3,4,5]\n",
    "print(a)\n",
    "print(*a)\n",
    "\n",
    "print(\"{}_{}_{}_{}_{}\".format(*a))\n",
    "\n",
    "print(list(zip([1,2], [2,3,4])))   # [(1, 2), (2, 3)]\n",
    "b = [[1,2], [3,4]]\n",
    "print(list(zip(*b)))"
   ]
  },
  {
   "cell_type": "code",
   "execution_count": 31,
   "metadata": {},
   "outputs": [
    {
     "name": "stdout",
     "output_type": "stream",
     "text": [
      "Counter({2: 5, 1: 3, 5: 3, 3: 2, 4: 1})\n",
      "[(2, 5), (1, 3)]\n"
     ]
    }
   ],
   "source": [
    "# Counter\n",
    "\n",
    "from collections import Counter\n",
    "\n",
    "nums = [1,1,1,2,2,2,2,2,3,3,4,5,5,5]\n",
    "\n",
    "c = Counter(nums)\n",
    "print(c)\n",
    "print(c.most_common(2))  # List[tuple]: (num, count)\n"
   ]
  },
  {
   "cell_type": "code",
   "execution_count": 33,
   "metadata": {},
   "outputs": [
    {
     "name": "stdout",
     "output_type": "stream",
     "text": [
      "1 ['1', '1']\n",
      "2 ['2', '2', '2']\n",
      "3 ['3', '3', '3']\n",
      "1 ['1', '1', '1']\n",
      "2 ['2', '2', '2']\n",
      "3 ['3', '3', '3', '3']\n"
     ]
    }
   ],
   "source": [
    "# itertools\n",
    "\n",
    "import itertools \n",
    "\n",
    "for digit, group in itertools.groupby('112223331112223333'):\n",
    "    print(digit, list(group))\n",
    "    \n",
    "# output (1, 11), (2, 222),(3,333), 1,111 ..."
   ]
  },
  {
   "cell_type": "code",
   "execution_count": null,
   "metadata": {},
   "outputs": [],
   "source": []
  }
 ],
 "metadata": {
  "kernelspec": {
   "display_name": "congyuml",
   "language": "python",
   "name": "congyuml"
  },
  "language_info": {
   "codemirror_mode": {
    "name": "ipython",
    "version": 3
   },
   "file_extension": ".py",
   "mimetype": "text/x-python",
   "name": "python",
   "nbconvert_exporter": "python",
   "pygments_lexer": "ipython3",
   "version": "3.6.9"
  }
 },
 "nbformat": 4,
 "nbformat_minor": 4
}
