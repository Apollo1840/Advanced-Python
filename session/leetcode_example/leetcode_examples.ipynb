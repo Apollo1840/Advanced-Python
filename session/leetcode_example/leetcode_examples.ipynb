{
 "cells": [
  {
   "cell_type": "code",
   "execution_count": null,
   "metadata": {},
   "outputs": [],
   "source": [
    "# add list-format number\n",
    "\n",
    "# add [1,8,3] + [1,2] = [3,0,4]\n",
    "\n",
    "# way 1 \n",
    "def addLists(l1, l2):\n",
    "    def list2num(l):\n",
    "        num = 0\n",
    "        for i in range(len(l)):\n",
    "            num += l[i]*(10**i)\n",
    "        return num\n",
    "    \n",
    "    the_sum = list2num(l1)+list2num(l2)\n",
    "    return list(reversed(str(the_sum)))\n",
    "\n",
    "# comments: how about do it directly ?\n",
    "\n",
    "def addLists(l1, l2):\n",
    "    def addLists_equal(l1, l2):\n",
    "        return l1\n",
    "    \n",
    "    if len(l1) < len(l2):\n",
    "        l1, l2 = l2, l1\n",
    "    \n",
    "    l1 = [0] ....\n",
    "        "
   ]
  },
  {
   "cell_type": "code",
   "execution_count": 2,
   "metadata": {},
   "outputs": [
    {
     "name": "stdout",
     "output_type": "stream",
     "text": [
      "2156\n"
     ]
    }
   ],
   "source": [
    "# break money into coins\n",
    "\n",
    "# change 1000 dollars to 100,50,20,5 how many possiblities do we have\n",
    "\n",
    "# 20x + 10y + 4z + j = 200\n",
    "\n",
    "count = 0\n",
    "for x in range(200//20+1):\n",
    "    for y in range((200-20*x)//10+1):\n",
    "        for z in range((200-20*x-10*y)//4+1):\n",
    "            for j in range(200-20*x-10*y-4*z+1):\n",
    "                # print(x,y,z,j)\n",
    "                if 20*x + 10*y + 4*z + j == 200:\n",
    "                    count += 1\n",
    "                elif 20*x + 10*y + 4*z + j > 200:\n",
    "                    break\n",
    "print(count)\n",
    "\n",
    "\n",
    "# comments: pay attention to the order of the for-loop"
   ]
  },
  {
   "cell_type": "code",
   "execution_count": 5,
   "metadata": {},
   "outputs": [
    {
     "data": {
      "text/plain": [
       "'1 2 3 4'"
      ]
     },
     "execution_count": 5,
     "metadata": {},
     "output_type": "execute_result"
    }
   ],
   "source": [
    "# num2str\n",
    "\n",
    "# formalize the number to string, separate with blank\n",
    "\n",
    "# way 1\n",
    "num2str = lambda a: ' '.join(list(str(a)))\n",
    "\n",
    "# way 2, without str()\n",
    "def num2str(num):\n",
    "    w = []\n",
    "    while num > 0:\n",
    "        w.append(str(num % 10))\n",
    "        num = num//10\n",
    "    return \" \".join(w[::-1])\n",
    "\n",
    "\n",
    "\n",
    "num2str(1234)"
   ]
  },
  {
   "cell_type": "code",
   "execution_count": 9,
   "metadata": {},
   "outputs": [
    {
     "name": "stdout",
     "output_type": "stream",
     "text": [
      "['', 'this', 'one', '', '', '', '', 'is', '', 'harder', '', '', '']\n"
     ]
    },
    {
     "data": {
      "text/plain": [
       "[3, 4, 5]"
      ]
     },
     "execution_count": 9,
     "metadata": {},
     "output_type": "execute_result"
    }
   ],
   "source": [
    "# reverse words in a string\n",
    "\n",
    "test = 'reverse words in a string'\n",
    "test2 = ' this one     is  harder   '\n",
    "\n",
    "# way 1\n",
    "def rws(string):\n",
    "    strs = string.split(' ')\n",
    "    a = ''\n",
    "    for i in range(len(strs)):\n",
    "        a += str.strip(strs[len(strs)-i-1]) + ' '\n",
    "    return a.strip()\n",
    "\n",
    "# why way 1 is not so good\n",
    "print(str.split(test2, ' '))\n",
    "\n",
    "# way 2\n",
    "def reverseWords(s):\n",
    "    return \" \".join(list(filter(lambda a:a!=\"\",s.split(' ')))[::-1])\n",
    "\n",
    "# explain\n",
    "list(filter(lambda x: x>2, [1,2,3,4,5]))\n"
   ]
  },
  {
   "cell_type": "code",
   "execution_count": null,
   "metadata": {},
   "outputs": [],
   "source": []
  }
 ],
 "metadata": {
  "kernelspec": {
   "display_name": "Python 3",
   "language": "python",
   "name": "python3"
  },
  "language_info": {
   "codemirror_mode": {
    "name": "ipython",
    "version": 3
   },
   "file_extension": ".py",
   "mimetype": "text/x-python",
   "name": "python",
   "nbconvert_exporter": "python",
   "pygments_lexer": "ipython3",
   "version": "3.6.9"
  }
 },
 "nbformat": 4,
 "nbformat_minor": 4
}
