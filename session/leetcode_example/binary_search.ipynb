{
 "cells": [
  {
   "cell_type": "code",
   "execution_count": 1,
   "id": "48a5befc",
   "metadata": {},
   "outputs": [],
   "source": [
    "import matplotlib.pyplot as plt"
   ]
  },
  {
   "cell_type": "code",
   "execution_count": 2,
   "id": "1ed0db89",
   "metadata": {},
   "outputs": [
    {
     "name": "stdout",
     "output_type": "stream",
     "text": [
      "[0, 2, 4, 6, 8, 10, 12, 14, 16, 18, 20, 22, 24]\n"
     ]
    }
   ],
   "source": [
    "a = list(range(0,25,2))\n",
    "print(a)"
   ]
  },
  {
   "cell_type": "markdown",
   "id": "8b49e2fc",
   "metadata": {},
   "source": [
    "# case 1: exact search"
   ]
  },
  {
   "cell_type": "code",
   "execution_count": 42,
   "id": "cd9c4b1d",
   "metadata": {
    "collapsed": true
   },
   "outputs": [
    {
     "name": "stdout",
     "output_type": "stream",
     "text": [
      "4-th: 8\n"
     ]
    },
    {
     "data": {
      "image/png": "[encoded data removed]",
      "text/plain": [
       "<Figure size 432x288 with 1 Axes>"
      ]
     },
     "metadata": {
      "needs_background": "light"
     },
     "output_type": "display_data"
    }
   ],
   "source": [
    "ai = 8\n",
    "\n",
    "plot_i = 0\n",
    "\n",
    "lo, hi = 0, len(a)-1\n",
    "while lo < hi-1:\n",
    "    mid = (lo + hi)//2\n",
    "    \n",
    "    plt.plot((lo, hi), (plot_i, plot_i), \"o-\")\n",
    "    plt.plot((mid), (plot_i), \"o\", color = \"red\")\n",
    "    plot_i += 1\n",
    "    \n",
    "    \n",
    "    if a[mid]==ai:\n",
    "        break\n",
    "    elif a[mid]>ai:\n",
    "        hi = mid\n",
    "    else:\n",
    "        lo = mid\n",
    "    \n",
    "if a[mid] == ai:\n",
    "    i = mid\n",
    "elif a[hi] == ai:\n",
    "    i = hi\n",
    "elif a[lo] == ai:\n",
    "    i = lo\n",
    "else:\n",
    "    i = None\n",
    "\n",
    "if i is not None:\n",
    "    print(\"{}-th: {}\".format(i, a[i]))\n",
    "plt.xticks(range(len(a)))\n",
    "plt.grid(True)\n",
    "plt.show()"
   ]
  },
  {
   "cell_type": "code",
   "execution_count": 78,
   "id": "7b3476ba",
   "metadata": {},
   "outputs": [
    {
     "name": "stdout",
     "output_type": "stream",
     "text": [
      "12-th: 24\n"
     ]
    },
    {
     "data": {
      "image/png": "[encoded data removed]",
      "text/plain": [
       "<Figure size 432x288 with 1 Axes>"
      ]
     },
     "metadata": {
      "needs_background": "light"
     },
     "output_type": "display_data"
    }
   ],
   "source": [
    "# using cross to exclude already false location\n",
    "\n",
    "ai = 24\n",
    "\n",
    "plot_i = 0\n",
    "\n",
    "lo, hi = 0, len(a)-1\n",
    "while lo != hi:      # change criterion here\n",
    "    mid = (lo + hi)//2\n",
    "    \n",
    "    plt.plot((lo, hi), (plot_i, plot_i), \"o-\")\n",
    "    plt.plot((mid), (plot_i), \"o\", color = \"red\")\n",
    "    plot_i += 1\n",
    "    \n",
    "    \n",
    "    if a[mid]==ai:\n",
    "        break\n",
    "    elif a[mid]>ai:\n",
    "        hi = mid - 1  # cross\n",
    "    else:\n",
    "        lo = mid + 1  # cross\n",
    "    \n",
    "if a[mid] == ai:\n",
    "    i = mid\n",
    "elif a[hi] == ai:\n",
    "    i = hi\n",
    "else:\n",
    "    i = None\n",
    "\n",
    "if i is not None:\n",
    "    print(\"{}-th: {}\".format(i, a[i]))\n",
    "plt.xticks(range(len(a)))\n",
    "plt.grid(True)\n",
    "plt.show()"
   ]
  },
  {
   "cell_type": "markdown",
   "id": "e4fe3e66",
   "metadata": {},
   "source": [
    "# case 2.1: argmin(a[i]>ai)\n",
    "use list to do minimum beat"
   ]
  },
  {
   "cell_type": "code",
   "execution_count": 56,
   "id": "e2a5e770",
   "metadata": {
    "collapsed": true
   },
   "outputs": [
    {
     "name": "stdout",
     "output_type": "stream",
     "text": [
      "12-th: 24\n"
     ]
    },
    {
     "data": {
      "image/png": "[encoded data removed]",
      "text/plain": [
       "<Figure size 432x288 with 1 Axes>"
      ]
     },
     "metadata": {
      "needs_background": "light"
     },
     "output_type": "display_data"
    }
   ],
   "source": [
    "ai = 25\n",
    "\n",
    "plot_i = 0\n",
    "\n",
    "lo, hi = 0, len(a)-1\n",
    "while lo < hi-1:\n",
    "    mid = (lo + hi)//2\n",
    "    \n",
    "    plt.plot((lo, hi), (plot_i, plot_i), \"o-\")\n",
    "    plt.plot((mid), (plot_i), \"o\", color = \"red\")\n",
    "    plot_i += 1\n",
    "    \n",
    "    if a[mid]>ai:\n",
    "        hi = mid\n",
    "    else:\n",
    "        lo = mid\n",
    "    \n",
    "if a[lo]>ai:\n",
    "    i = lo\n",
    "else:\n",
    "    i = hi\n",
    "\n",
    "print(\"{}-th: {}\".format(i, a[i]))\n",
    "plt.xticks(range(len(a)))\n",
    "plt.grid(True)\n",
    "plt.show()"
   ]
  },
  {
   "cell_type": "code",
   "execution_count": 79,
   "id": "23673235",
   "metadata": {},
   "outputs": [
    {
     "name": "stdout",
     "output_type": "stream",
     "text": [
      "5-th: 10\n"
     ]
    },
    {
     "data": {
      "image/png": "[encoded data removed]",
      "text/plain": [
       "<Figure size 432x288 with 1 Axes>"
      ]
     },
     "metadata": {
      "needs_background": "light"
     },
     "output_type": "display_data"
    }
   ],
   "source": [
    "# basic - 1\n",
    "# use cross to exclude alread false location.\n",
    "ai = 8\n",
    "\n",
    "plot_i = 0\n",
    "\n",
    "lo, hi = 0, len(a)-1\n",
    "while lo != hi:\n",
    "    mid = (lo + hi)//2\n",
    "    \n",
    "    plt.plot((lo, hi), (plot_i, plot_i), \"o-\")\n",
    "    plt.plot((mid), (plot_i), \"o\", color = \"red\")\n",
    "    plot_i += 1\n",
    "    \n",
    "    if a[mid]>ai:\n",
    "        hi = mid\n",
    "    else:\n",
    "        lo = mid + 1   # cross\n",
    "    \n",
    "i = hi\n",
    "\n",
    "print(\"{}-th: {}\".format(i, a[i]))\n",
    "plt.xticks(range(len(a)))\n",
    "plt.grid(True)\n",
    "plt.show()"
   ]
  },
  {
   "cell_type": "markdown",
   "id": "d607709a",
   "metadata": {},
   "source": [
    "# case 2.2: argmax(a[i]<ai)"
   ]
  },
  {
   "cell_type": "code",
   "execution_count": 73,
   "id": "5d0e5605",
   "metadata": {},
   "outputs": [
    {
     "name": "stdout",
     "output_type": "stream",
     "text": [
      "3-th: 6\n"
     ]
    },
    {
     "data": {
      "image/png": "[encoded data removed]",
      "text/plain": [
       "<Figure size 432x288 with 1 Axes>"
      ]
     },
     "metadata": {
      "needs_background": "light"
     },
     "output_type": "display_data"
    }
   ],
   "source": [
    "ai = 8\n",
    "\n",
    "plot_i = 0\n",
    "\n",
    "lo, hi = 0, len(a)-1\n",
    "while lo < hi-1:\n",
    "    mid = (lo + hi)//2\n",
    "    \n",
    "    plt.plot((lo, hi), (plot_i, plot_i), \"o-\")\n",
    "    plt.plot((mid), (plot_i), \"o\", color = \"red\")\n",
    "    plot_i += 1\n",
    "    \n",
    "    if a[mid]>=ai:\n",
    "        hi = mid\n",
    "    else:\n",
    "        lo = mid\n",
    "    \n",
    "if a[hi] < ai:\n",
    "    i = hi\n",
    "else:\n",
    "    i = lo\n",
    "\n",
    "print(\"{}-th: {}\".format(i, a[i]))\n",
    "plt.xticks(range(len(a)))\n",
    "plt.grid(True)\n",
    "plt.show()"
   ]
  },
  {
   "cell_type": "code",
   "execution_count": 72,
   "id": "aadb9f46",
   "metadata": {},
   "outputs": [
    {
     "name": "stdout",
     "output_type": "stream",
     "text": [
      "3-th: 6\n"
     ]
    },
    {
     "data": {
      "image/png": "[encoded data removed]",
      "text/plain": [
       "<Figure size 432x288 with 1 Axes>"
      ]
     },
     "metadata": {
      "needs_background": "light"
     },
     "output_type": "display_data"
    }
   ],
   "source": [
    "ai = 8\n",
    "\n",
    "plot_i = 0\n",
    "\n",
    "lo, hi = 0, len(a)-1\n",
    "while lo < hi:\n",
    "    mid = (lo + hi)//2\n",
    "    \n",
    "    plt.plot((lo, hi), (plot_i, plot_i), \"o-\")\n",
    "    plt.plot((mid), (plot_i), \"o\", color = \"red\")\n",
    "    plot_i += 1\n",
    "    \n",
    "    if a[mid]>=ai:\n",
    "        hi = mid\n",
    "    else:\n",
    "        lo = mid + 1   # cross\n",
    "\n",
    "i = hi - 1\n",
    "print(\"{}-th: {}\".format(i, a[i]))\n",
    "plt.xticks(range(len(a)))\n",
    "plt.grid(True)\n",
    "plt.show()"
   ]
  },
  {
   "cell_type": "markdown",
   "id": "7c317fec",
   "metadata": {},
   "source": [
    "# case 3.1: argmax(a[i]<=ai)\n",
    "use target to do maximum cover"
   ]
  },
  {
   "cell_type": "code",
   "execution_count": 57,
   "id": "1a2651cd",
   "metadata": {
    "collapsed": true
   },
   "outputs": [
    {
     "name": "stdout",
     "output_type": "stream",
     "text": [
      "4-th: 8\n"
     ]
    },
    {
     "data": {
      "image/png": "[encoded data removed]",
      "text/plain": [
       "<Figure size 432x288 with 1 Axes>"
      ]
     },
     "metadata": {
      "needs_background": "light"
     },
     "output_type": "display_data"
    }
   ],
   "source": [
    "ai = 8\n",
    "\n",
    "plot_i = 0\n",
    "\n",
    "lo, hi = 0, len(a)-1\n",
    "while lo < hi-1:\n",
    "    mid = (lo + hi)//2\n",
    "    \n",
    "    plt.plot((lo, hi), (plot_i, plot_i), \"o-\")\n",
    "    plt.plot((mid), (plot_i), \"o\", color = \"red\")\n",
    "    plot_i += 1\n",
    "    \n",
    "    if a[mid]>ai:\n",
    "        hi = mid\n",
    "    else:\n",
    "        lo = mid\n",
    "    \n",
    "if a[hi]<=ai:\n",
    "    i = hi\n",
    "else:\n",
    "    i = lo\n",
    "    \n",
    "print(\"{}-th: {}\".format(i, a[i]))\n",
    "plt.xticks(range(len(a)))\n",
    "plt.grid(True)\n",
    "plt.show()"
   ]
  },
  {
   "cell_type": "code",
   "execution_count": 60,
   "id": "9cb7aeb9",
   "metadata": {
    "scrolled": false
   },
   "outputs": [
    {
     "name": "stdout",
     "output_type": "stream",
     "text": [
      "4-th: 8\n"
     ]
    },
    {
     "data": {
      "image/png": "[encoded data removed]",
      "text/plain": [
       "<Figure size 432x288 with 1 Axes>"
      ]
     },
     "metadata": {
      "needs_background": "light"
     },
     "output_type": "display_data"
    }
   ],
   "source": [
    "ai = 8\n",
    "\n",
    "plot_i = 0\n",
    "\n",
    "lo, hi = 0, len(a)-1\n",
    "while lo != hi:\n",
    "    mid = (lo + hi)//2\n",
    "    \n",
    "    plt.plot((lo, hi), (plot_i, plot_i), \"o-\")\n",
    "    plt.plot((mid), (plot_i), \"o\", color = \"red\")\n",
    "    plot_i += 1\n",
    "    \n",
    "    if a[mid]>ai:\n",
    "        hi = mid\n",
    "    else:\n",
    "        lo = mid + 1   # cross\n",
    "\n",
    "i = hi - 1\n",
    "print(\"{}-th: {}\".format(i, a[i]))\n",
    "plt.xticks(range(len(a)))\n",
    "plt.grid(True)\n",
    "plt.show()"
   ]
  },
  {
   "cell_type": "markdown",
   "id": "b2a60101",
   "metadata": {},
   "source": [
    "# case 3.2: argmin(a[i]>=ai)\n",
    "use list to do minimum not lose"
   ]
  },
  {
   "cell_type": "code",
   "execution_count": 71,
   "id": "e031879c",
   "metadata": {},
   "outputs": [
    {
     "name": "stdout",
     "output_type": "stream",
     "text": [
      "4-th: 8\n"
     ]
    },
    {
     "data": {
      "image/png": "[encoded data removed]",
      "text/plain": [
       "<Figure size 432x288 with 1 Axes>"
      ]
     },
     "metadata": {
      "needs_background": "light"
     },
     "output_type": "display_data"
    }
   ],
   "source": [
    "ai = 8\n",
    "\n",
    "plot_i = 0\n",
    "\n",
    "lo, hi = 0, len(a)-1\n",
    "while lo < hi-1:\n",
    "    mid = (lo + hi)//2\n",
    "    \n",
    "    plt.plot((lo, hi), (plot_i, plot_i), \"o-\")\n",
    "    plt.plot((mid), (plot_i), \"o\", color = \"red\")\n",
    "    plot_i += 1\n",
    "    \n",
    "    if a[mid]>=ai:\n",
    "        hi = mid\n",
    "    else:\n",
    "        lo = mid\n",
    "    \n",
    "if a[lo]>=ai:\n",
    "    i = lo\n",
    "else:\n",
    "    i = hi\n",
    "    \n",
    "print(\"{}-th: {}\".format(i, a[i]))\n",
    "plt.xticks(range(len(a)))\n",
    "plt.grid(True)\n",
    "plt.show()"
   ]
  },
  {
   "cell_type": "code",
   "execution_count": 70,
   "id": "e8bca884",
   "metadata": {},
   "outputs": [
    {
     "name": "stdout",
     "output_type": "stream",
     "text": [
      "4-th: 8\n"
     ]
    },
    {
     "data": {
      "image/png": "[encoded data removed]",
      "text/plain": [
       "<Figure size 432x288 with 1 Axes>"
      ]
     },
     "metadata": {
      "needs_background": "light"
     },
     "output_type": "display_data"
    }
   ],
   "source": [
    "# basic - 2\n",
    "ai = 8\n",
    "\n",
    "plot_i = 0\n",
    "\n",
    "lo, hi = 0, len(a)-1\n",
    "while lo != hi:\n",
    "    mid = (lo + hi)//2\n",
    "    \n",
    "    plt.plot((lo, hi), (plot_i, plot_i), \"o-\")\n",
    "    plt.plot((mid), (plot_i), \"o\", color = \"red\")\n",
    "    plot_i += 1\n",
    "    \n",
    "    if a[mid]>=ai:\n",
    "        hi = mid\n",
    "    else:\n",
    "        lo = mid + 1   # cross\n",
    "\n",
    "i = hi\n",
    "print(\"{}-th: {}\".format(i, a[i]))\n",
    "plt.xticks(range(len(a)))\n",
    "plt.grid(True)\n",
    "plt.show()"
   ]
  },
  {
   "cell_type": "code",
   "execution_count": null,
   "id": "561ab75c",
   "metadata": {},
   "outputs": [],
   "source": []
  }
 ],
 "metadata": {
  "kernelspec": {
   "display_name": "congyutf",
   "language": "python",
   "name": "congyutf"
  },
  "language_info": {
   "codemirror_mode": {
    "name": "ipython",
    "version": 3
   },
   "file_extension": ".py",
   "mimetype": "text/x-python",
   "name": "python",
   "nbconvert_exporter": "python",
   "pygments_lexer": "ipython3",
   "version": "3.9.5"
  }
 },
 "nbformat": 4,
 "nbformat_minor": 5
}
