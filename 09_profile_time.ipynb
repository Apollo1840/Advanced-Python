{
 "cells": [
  {
   "cell_type": "code",
   "execution_count": 1,
   "metadata": {},
   "outputs": [],
   "source": [
    "import cProfile\n",
    "import time"
   ]
  },
  {
   "cell_type": "code",
   "execution_count": 2,
   "metadata": {},
   "outputs": [],
   "source": [
    "def toy_main():\n",
    "    s = 0 \n",
    "    students = [\"tom\", \"mary\", \"jenny\", \"sam\"]\n",
    "    for student in students:\n",
    "        s+=toy_func(student)\n",
    "    \n",
    "    a = s/len(students)\n",
    "    \n",
    "    return a\n",
    "        \n",
    "    \n",
    "    \n",
    "def toy_func(name):\n",
    "    a = 1\n",
    "    b = 1\n",
    "    print(\"{} calculating 1 + 1\".format(name))\n",
    "    time.sleep(0.1)\n",
    "    c = a + b\n",
    "    print(\"{} get the result, it is {} \".format(name, c))\n",
    "    return c\n",
    "    \n"
   ]
  },
  {
   "cell_type": "code",
   "execution_count": 3,
   "metadata": {},
   "outputs": [
    {
     "name": "stdout",
     "output_type": "stream",
     "text": [
      "tom calculating 1 + 1\n",
      "tom get the result, it is 2 \n",
      "mary calculating 1 + 1\n",
      "mary get the result, it is 2 \n",
      "jenny calculating 1 + 1\n",
      "jenny get the result, it is 2 \n",
      "sam calculating 1 + 1\n",
      "sam get the result, it is 2 \n"
     ]
    },
    {
     "data": {
      "text/plain": [
       "2.0"
      ]
     },
     "execution_count": 3,
     "metadata": {},
     "output_type": "execute_result"
    }
   ],
   "source": [
    "toy_main()"
   ]
  },
  {
   "cell_type": "code",
   "execution_count": 4,
   "metadata": {},
   "outputs": [
    {
     "name": "stdout",
     "output_type": "stream",
     "text": [
      "tom calculating 1 + 1\n",
      "tom get the result, it is 2 \n",
      "mary calculating 1 + 1\n",
      "mary get the result, it is 2 \n",
      "jenny calculating 1 + 1\n",
      "jenny get the result, it is 2 \n",
      "sam calculating 1 + 1\n",
      "sam get the result, it is 2 \n",
      "         253 function calls in 0.402 seconds\n",
      "\n",
      "   Ordered by: standard name\n",
      "\n",
      "   ncalls  tottime  percall  cumtime  percall filename:lineno(function)\n",
      "        1    0.000    0.000    0.402    0.402 <ipython-input-2-2bcaabb66d9a>:1(toy_main)\n",
      "        4    0.000    0.000    0.402    0.100 <ipython-input-2-2bcaabb66d9a>:13(toy_func)\n",
      "        1    0.000    0.000    0.402    0.402 <string>:1(<module>)\n",
      "       18    0.000    0.000    0.001    0.000 iostream.py:195(schedule)\n",
      "       16    0.000    0.000    0.000    0.000 iostream.py:307(_is_master_process)\n",
      "       16    0.000    0.000    0.000    0.000 iostream.py:320(_schedule_flush)\n",
      "       16    0.000    0.000    0.001    0.000 iostream.py:382(write)\n",
      "       18    0.000    0.000    0.000    0.000 iostream.py:93(_event_pipe)\n",
      "       18    0.000    0.000    0.000    0.000 socket.py:342(send)\n",
      "       18    0.000    0.000    0.000    0.000 threading.py:1062(_wait_for_tstate_lock)\n",
      "       18    0.000    0.000    0.000    0.000 threading.py:1104(is_alive)\n",
      "       18    0.000    0.000    0.000    0.000 threading.py:506(is_set)\n",
      "        1    0.000    0.000    0.402    0.402 {built-in method builtins.exec}\n",
      "       16    0.000    0.000    0.000    0.000 {built-in method builtins.isinstance}\n",
      "        1    0.000    0.000    0.000    0.000 {built-in method builtins.len}\n",
      "        8    0.000    0.000    0.001    0.000 {built-in method builtins.print}\n",
      "       16    0.000    0.000    0.000    0.000 {built-in method posix.getpid}\n",
      "        4    0.401    0.100    0.401    0.100 {built-in method time.sleep}\n",
      "       18    0.000    0.000    0.000    0.000 {method 'acquire' of '_thread.lock' objects}\n",
      "       18    0.000    0.000    0.000    0.000 {method 'append' of 'collections.deque' objects}\n",
      "        1    0.000    0.000    0.000    0.000 {method 'disable' of '_lsprof.Profiler' objects}\n",
      "        8    0.000    0.000    0.000    0.000 {method 'format' of 'str' objects}\n",
      "\n",
      "\n"
     ]
    },
    {
     "data": {
      "text/plain": [
       "'\\nncalls – how many times the function/method has been called (in case the same function/method is being called recursively then ncalls has two values eg. 120/20, where the first is the true number of calls, while the second is the number of direct calls)\\ntottime – the total time in seconds excluding the time of other functions/methods\\npercall – average time to execute function (per call)\\ncumtime – the total time in seconds includes the times of other functions it calls\\npercall – similar to the previous percall, however this one includes network delays thread sleeps etc…\\nfilename:lineno(function) – the line within a script or the method used\\n'"
      ]
     },
     "execution_count": 4,
     "metadata": {},
     "output_type": "execute_result"
    }
   ],
   "source": [
    "# way 1\n",
    "cProfile.run('toy_main()')\n",
    "\n",
    "\"\"\"\n",
    "ncalls – how many times the function/method has been called (in case the same function/method is being called recursively then ncalls has two values eg. 120/20, where the first is the true number of calls, while the second is the number of direct calls)\n",
    "tottime – the total time in seconds excluding the time of other functions/methods\n",
    "percall – average time to execute function (per call)\n",
    "cumtime – the total time in seconds includes the times of other functions it calls\n",
    "percall – similar to the previous percall, however this one includes network delays thread sleeps etc…\n",
    "filename:lineno(function) – the line within a script or the method used\n",
    "\"\"\"\n",
    "\n",
    "# pay attention of cumtime\n",
    "\n",
    "# cProfile.run('toy_main()', \"toy_main.profile\")\n",
    "# you can use pstats to read the profile file:\n",
    "# import pstats\n",
    "# p = pstats.Stats('toy_main.profile')\n",
    "# p.strip_dirs().sort_stats(\"cumtime\").print_stats()"
   ]
  },
  {
   "cell_type": "code",
   "execution_count": 5,
   "metadata": {},
   "outputs": [
    {
     "name": "stdout",
     "output_type": "stream",
     "text": [
      "tom calculating 1 + 1\n",
      "tom get the result, it is 2 \n",
      "mary calculating 1 + 1\n",
      "mary get the result, it is 2 \n",
      "jenny calculating 1 + 1\n",
      "jenny get the result, it is 2 \n",
      "sam calculating 1 + 1\n",
      "sam get the result, it is 2 \n",
      "         207 function calls in 0.403 seconds\n",
      "\n",
      "   Ordered by: cumulative time\n",
      "\n",
      "   ncalls  tottime  percall  cumtime  percall filename:lineno(function)\n",
      "        2    0.000    0.000    0.403    0.201 interactiveshell.py:3302(run_code)\n",
      "        1    0.000    0.000    0.403    0.403 <ipython-input-5-708aa0cdaead>:5(<module>)\n",
      "        1    0.000    0.000    0.402    0.402 <ipython-input-2-2bcaabb66d9a>:1(toy_main)\n",
      "        4    0.401    0.100    0.402    0.101 <ipython-input-2-2bcaabb66d9a>:13(toy_func)\n",
      "       16    0.000    0.000    0.001    0.000 iostream.py:382(write)\n",
      "       20    0.000    0.000    0.001    0.000 iostream.py:195(schedule)\n",
      "       20    0.001    0.000    0.001    0.000 socket.py:342(send)\n",
      "       16    0.000    0.000    0.000    0.000 iostream.py:320(_schedule_flush)\n",
      "       20    0.000    0.000    0.000    0.000 threading.py:1104(is_alive)\n",
      "        2    0.000    0.000    0.000    0.000 codeop.py:132(__call__)\n",
      "       16    0.000    0.000    0.000    0.000 iostream.py:307(_is_master_process)\n",
      "       20    0.000    0.000    0.000    0.000 threading.py:1062(_wait_for_tstate_lock)\n",
      "       20    0.000    0.000    0.000    0.000 iostream.py:93(_event_pipe)\n",
      "        2    0.000    0.000    0.000    0.000 contextlib.py:157(helper)\n",
      "        2    0.000    0.000    0.000    0.000 contextlib.py:85(__exit__)\n",
      "       20    0.000    0.000    0.000    0.000 threading.py:506(is_set)\n",
      "        2    0.000    0.000    0.000    0.000 contextlib.py:59(__init__)\n",
      "        4    0.000    0.000    0.000    0.000 compilerop.py:138(extra_flags)\n",
      "        2    0.000    0.000    0.000    0.000 contextlib.py:79(__enter__)\n",
      "        2    0.000    0.000    0.000    0.000 interactiveshell.py:117(<lambda>)\n",
      "        2    0.000    0.000    0.000    0.000 hooks.py:103(__call__)\n",
      "        2    0.000    0.000    0.000    0.000 traitlets.py:545(__get__)\n",
      "        2    0.000    0.000    0.000    0.000 ipstruct.py:125(__getattr__)\n",
      "        2    0.000    0.000    0.000    0.000 traitlets.py:526(get)\n",
      "        2    0.000    0.000    0.000    0.000 interactiveshell.py:1276(user_global_ns)\n",
      "        1    0.000    0.000    0.000    0.000 <ipython-input-5-708aa0cdaead>:7(<module>)\n",
      "        2    0.000    0.000    0.000    0.000 interactiveshell.py:3244(compare)\n",
      "        2    0.000    0.000    0.000    0.000 hooks.py:168(pre_run_code_hook)\n",
      "\n",
      "\n"
     ]
    }
   ],
   "source": [
    "# way 2\n",
    "pr = cProfile.Profile(builtins=False)\n",
    "pr.enable()\n",
    " \n",
    "toy_main()\n",
    " \n",
    "pr.disable()\n",
    " \n",
    "pr.print_stats(sort='cumtime')\n",
    "\n",
    "# pr.dump_stats(\"toy_main.profile\")"
   ]
  },
  {
   "cell_type": "code",
   "execution_count": null,
   "metadata": {},
   "outputs": [],
   "source": [
    "# way 3: outside of script\n",
    "# python -m cProfile [-o output_file] [-s sort_order] (-m module | myscript.py)"
   ]
  },
  {
   "cell_type": "code",
   "execution_count": 6,
   "metadata": {},
   "outputs": [],
   "source": [
    "# analysis profile\n",
    "\n",
    "# https://julien.danjou.info/guide-to-python-profiling-cprofile-concrete-case-carbonara/"
   ]
  },
  {
   "cell_type": "code",
   "execution_count": null,
   "metadata": {},
   "outputs": [],
   "source": []
  }
 ],
 "metadata": {
  "kernelspec": {
   "display_name": "congyuml",
   "language": "python",
   "name": "congyuml"
  },
  "language_info": {
   "codemirror_mode": {
    "name": "ipython",
    "version": 3
   },
   "file_extension": ".py",
   "mimetype": "text/x-python",
   "name": "python",
   "nbconvert_exporter": "python",
   "pygments_lexer": "ipython3",
   "version": "3.6.9"
  }
 },
 "nbformat": 4,
 "nbformat_minor": 4
}
